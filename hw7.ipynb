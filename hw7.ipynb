{
 "cells": [
  {
   "cell_type": "markdown",
   "metadata": {},
   "source": [
    "\n",
    "# CIS024C - Summer 2018 \n",
    "\n",
    "## Homework 7\n",
    "\n",
    "Homework 7 covers exercises that involve working with functions\n",
    "\n",
    "The below sites have some interesting and useful information on working with files\n",
    "\n",
    "https://www.learnpython.org/en/Functions\n",
    "https://www.tutorialspoint.com/python/python_functions.htm\n",
    "\n",
    "You will need to download this notebook and use this as a starting point for your homework. You will just need to fill in the content of each code-block (cell) and execute. Once you have completed all the exercises.\n",
    "\n",
    "Note also the exercises build on top of one another so you might be able to do the next exercise if you have not completed the previous exercise.\n",
    "\n",
    "Post any questions you have on our Slack at **cis-024c1.slack.com**\n",
    "\n",
    "** Slides ** for Week 6 can be found at \n",
    "\n",
    "https://docs.google.com/presentation/d/1XGV2NR0ZAAmQYjlRuy81zzlW2g5lWS8L6a7iRV-lreQ/edit?usp=sharing\n",
    "\n",
    "**Please refer back to hw1 and slack for instructions on how to setup your computer for developing using Python.**"
   ]
  },
  {
   "cell_type": "markdown",
   "metadata": {},
   "source": [
    "### Helpful Jupyter Commands\n",
    "\n",
    "Below are some useful commands to know when using Jupyter\n",
    "\n",
    "1. You can add a new cell by clicking on the \"+\" icon on top.\n",
    "2. You can delete a cell by selecting that cell and clicking on the \"scissors\" icon on top.\n",
    "3. You can execute a cell by either pressing shift+enter or selecting the \"play\" button on top.\n",
    "4. You can create a new file in Jupyter via the File menu->New Notebook option. Make sure to select Python 2 when creating your notebook.\n",
    "5. Also, for your code blocks make sure that Code is selected instead of another option like Markdown.\n",
    "6. Use the Enter key to go to the next line in a cell to enter the next statement.\n",
    "7. You can clear results by clicking on the Cell menu item and selecting Current Output->Clear or All Output->Clear depending on whether you are trying to just clear the output for one cell or for all cells.\n",
    "8. In case your program has crashed for some reason (infinite loop, for example), you can restart your Python session by select Kernel in the menu and selecting Restart.\n"
   ]
  },
  {
   "cell_type": "markdown",
   "metadata": {},
   "source": [
    "#### Check Python Version"
   ]
  },
  {
   "cell_type": "code",
   "execution_count": 1,
   "metadata": {},
   "outputs": [
    {
     "name": "stdout",
     "output_type": "stream",
     "text": [
      "Python 3.6.5 :: Anaconda, Inc.\r\n"
     ]
    }
   ],
   "source": [
    "!python --version"
   ]
  },
  {
   "cell_type": "markdown",
   "metadata": {},
   "source": [
    "#### Sample Exercises with Functions\n",
    "\n",
    "Refer to Week 6 slides for a recap of what happened in Week 6\n",
    "\n",
    "https://docs.google.com/presentation/d/1XGV2NR0ZAAmQYjlRuy81zzlW2g5lWS8L6a7iRV-lreQ/edit?usp=sharing"
   ]
  },
  {
   "cell_type": "markdown",
   "metadata": {},
   "source": [
    "**Exercise 1 - Testing your knowledge of functions **\n",
    "\n",
    "Answer the below questions\n",
    "\n",
    "1. What is a function in Python?\n",
    "2. What are the advantages of using functions?"
   ]
  },
  {
   "cell_type": "markdown",
   "metadata": {},
   "source": [
    "A function a block of code that is reusable. You use 'def' to define a function, and it takes an input and returns an output. Functions are helpful when you are programming because instead of writing lines of code, you can just use a function to represent them. The use of functions makes your code simpler and easier to read. The other advantages of using functions are that a function can return different types of values (such as tuples, lists, strings, etc.) and functions allow programmers to ellaborate on a project. "
   ]
  },
  {
   "cell_type": "markdown",
   "metadata": {},
   "source": [
    "#### Exercise 2 -  Max of three numbers\n",
    "\n",
    "Write a Python function to find the Max of three numbers.\n",
    "\n",
    "Make sure you invoke this function in your main program and display the result"
   ]
  },
  {
   "cell_type": "code",
   "execution_count": 1,
   "metadata": {},
   "outputs": [
    {
     "data": {
      "text/plain": [
       "14"
      ]
     },
     "execution_count": 1,
     "metadata": {},
     "output_type": "execute_result"
    }
   ],
   "source": [
    "def maximum(x,y,z):\n",
    "    total = x\n",
    "    if y > total:\n",
    "        total = y\n",
    "    if z > total:\n",
    "        total = z\n",
    "    return total\n",
    "\n",
    "maximum(12,14,3)"
   ]
  },
  {
   "cell_type": "markdown",
   "metadata": {},
   "source": [
    "#### Exercise 3 - Finding the sum of numbers in a list\n",
    "\n",
    "Write a Python function to sum all the numbers in a list\n",
    "\n",
    "Make sure you invoke this function in your main program and display the result"
   ]
  },
  {
   "cell_type": "code",
   "execution_count": 11,
   "metadata": {},
   "outputs": [
    {
     "data": {
      "text/plain": [
       "25"
      ]
     },
     "execution_count": 11,
     "metadata": {},
     "output_type": "execute_result"
    }
   ],
   "source": [
    "def sumofnum(listofnumber):\n",
    "    total = listofnumber[0]\n",
    "    for i in listofnumber[1:]:\n",
    "        total += i\n",
    "    return total\n",
    "\n",
    "sumofnum([1,3,5,7,9])"
   ]
  },
  {
   "cell_type": "markdown",
   "metadata": {},
   "source": [
    "#### Exercise 4 - Finding the product of numbers in a list\n",
    "\n",
    "Write a Python function to multiply all the numbers in a list\n",
    "\n",
    "Make sure you invoke this function in your main program and display the result"
   ]
  },
  {
   "cell_type": "code",
   "execution_count": 12,
   "metadata": {},
   "outputs": [
    {
     "data": {
      "text/plain": [
       "320"
      ]
     },
     "execution_count": 12,
     "metadata": {},
     "output_type": "execute_result"
    }
   ],
   "source": [
    "def multiply(numberlist):\n",
    "    total = numberlist[0]\n",
    "    for i in numberlist[1:]:\n",
    "        total = total * i\n",
    "    return total\n",
    "\n",
    "multiply([2,4,5,8])"
   ]
  },
  {
   "cell_type": "markdown",
   "metadata": {},
   "source": [
    "#### Exercise 5 - Reversing a String\n",
    "\n",
    "Write a Python function to reverse a string\n",
    "\n",
    "Make sure you invoke this function in your main program and display the result"
   ]
  },
  {
   "cell_type": "code",
   "execution_count": 13,
   "metadata": {},
   "outputs": [
    {
     "data": {
      "text/plain": [
       "'olleh'"
      ]
     },
     "execution_count": 13,
     "metadata": {},
     "output_type": "execute_result"
    }
   ],
   "source": [
    "def reverse(s):\n",
    "    return s[::-1]\n",
    "\n",
    "reverse('hello')"
   ]
  },
  {
   "cell_type": "markdown",
   "metadata": {},
   "source": [
    "## OPTIONAL EXERCISES\n",
    "\n",
    "Below is a set of optional exercises. These will not be graded but the solutions will be posted. I would strongly encourage you to try these out if you are done with the mandatory homework exercises to improve your understanding of python."
   ]
  },
  {
   "cell_type": "markdown",
   "metadata": {},
   "source": [
    "#### Exercise 6\n",
    "\n",
    "Write a Python function that accepts a string and calculate the number of upper case letters and lower case letters.\n",
    "\n",
    "Make sure you invoke this function in your main program and display the result"
   ]
  },
  {
   "cell_type": "code",
   "execution_count": 20,
   "metadata": {},
   "outputs": [
    {
     "name": "stdout",
     "output_type": "stream",
     "text": [
      "enter something: hEllo\n"
     ]
    },
    {
     "data": {
      "text/plain": [
       "(1, 4)"
      ]
     },
     "execution_count": 20,
     "metadata": {},
     "output_type": "execute_result"
    }
   ],
   "source": [
    "def count():\n",
    "    s = input('enter something: ')\n",
    "    upper = 0\n",
    "    lower = 0\n",
    "    for i in s:\n",
    "        if i <= 'Z':\n",
    "            upper += 1\n",
    "        if i > 'Z':\n",
    "            lower += 1\n",
    "    return upper,lower\n",
    "\n",
    "count()"
   ]
  },
  {
   "cell_type": "markdown",
   "metadata": {},
   "source": [
    "#### Exercise 7\n",
    "\n",
    " Write a Python function to print the even numbers from a given list..\n",
    " \n",
    " Make sure you invoke this function in your main program and display the result"
   ]
  },
  {
   "cell_type": "code",
   "execution_count": 6,
   "metadata": {},
   "outputs": [
    {
     "name": "stdout",
     "output_type": "stream",
     "text": [
      "2468\n"
     ]
    }
   ],
   "source": [
    "def even(givenlist):\n",
    "    evennum = ''\n",
    "    for i in givenlist:\n",
    "        if i % 2 == 0:\n",
    "            evennum += str(i)\n",
    "    return evennum\n",
    "        \n",
    "print(even([1,2,3,4,5,6,7,8,9]))"
   ]
  },
  {
   "cell_type": "markdown",
   "metadata": {},
   "source": [
    "#### Exercise 8\n",
    "\n",
    "Write a Python function that checks whether a passed string is palindrome or not.\n",
    "\n",
    "Make sure you invoke this function in your main program and display the result"
   ]
  },
  {
   "cell_type": "code",
   "execution_count": 16,
   "metadata": {},
   "outputs": [
    {
     "data": {
      "text/plain": [
       "'yes the string is a palindrome'"
      ]
     },
     "execution_count": 16,
     "metadata": {},
     "output_type": "execute_result"
    }
   ],
   "source": [
    "def palindrome(s):\n",
    "    s1 = s.replace(' ','')\n",
    "    if s1[0:] == s1[::-1]:\n",
    "        return 'yes the string is a palindrome'      \n",
    "    else:\n",
    "        return 'no the string is not a palindrome'\n",
    "\n",
    "palindrome('nurses run')"
   ]
  },
  {
   "cell_type": "markdown",
   "metadata": {
    "collapsed": true
   },
   "source": [
    "#### Exercise 9\n",
    "\n",
    "Write a recursive Python program to compute the fibonnaci number for a given index.\n",
    "\n",
    "This is what a fibonacci series is https://www.mathsisfun.com/numbers/fibonacci-sequence.html\n",
    "\n",
    "Make sure you invoke this function in your main program and display the result"
   ]
  },
  {
   "cell_type": "code",
   "execution_count": 14,
   "metadata": {
    "collapsed": true
   },
   "outputs": [],
   "source": []
  },
  {
   "cell_type": "markdown",
   "metadata": {},
   "source": [
    "#### Exercise 10\n",
    "\n",
    "Write a python program to autocorrect user input using the edit distance method. \n",
    "\n",
    "Make sure you invoke this function in your main program and display the result"
   ]
  },
  {
   "cell_type": "code",
   "execution_count": null,
   "metadata": {
    "collapsed": true
   },
   "outputs": [],
   "source": [
    "### YOUR CODE GOES BELOW\n",
    "\n",
    "\n",
    "### END CODE"
   ]
  }
 ],
 "metadata": {
  "kernelspec": {
   "display_name": "Python 3",
   "language": "python",
   "name": "python3"
  },
  "language_info": {
   "codemirror_mode": {
    "name": "ipython",
    "version": 3
   },
   "file_extension": ".py",
   "mimetype": "text/x-python",
   "name": "python",
   "nbconvert_exporter": "python",
   "pygments_lexer": "ipython3",
   "version": "3.6.5"
  }
 },
 "nbformat": 4,
 "nbformat_minor": 2
}
