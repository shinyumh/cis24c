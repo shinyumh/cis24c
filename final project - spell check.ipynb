{
 "cells": [
  {
   "cell_type": "code",
   "execution_count": 1,
   "metadata": {},
   "outputs": [],
   "source": [
    "def similarity():\n",
    "    \n",
    "    # find a file that includes most of the english words and set all the words in the list \"corpus\"\n",
    "    \n",
    "    file = open('englishwords.txt') # taken from Josh Kaufman @ Github\n",
    "    wordlist = file.readlines()\n",
    "    corpus = [word.split('\\n', 1)[0] for word in wordlist]\n",
    "    \n",
    "    # set \"finish\" to True\n",
    "    \n",
    "    finish = True\n",
    "    \n",
    "    # allow the user to enter a word (in this case, a misspelled word)\n",
    "    \n",
    "    while True:\n",
    "        inputword = str(input('enter a word: '))\n",
    "        inputword.lower()\n",
    "    \n",
    "        if len(inputword) == 0: # if the user enters nothing, ask them to try again\n",
    "            print ('please provide a valid word')\n",
    "        \n",
    "        else: # if the user provides a word, the code continues\n",
    "            break\n",
    "            \n",
    "    # sometimes, the user types an incorrect letter rather than the correct one\n",
    "    # therefore, the misspelled word is LIKELY to have the same amount of letters as the correctly spelled one\n",
    "    \n",
    "    # create an empty list \n",
    "            \n",
    "    samelenwords = []\n",
    "    \n",
    "    # add all the words in corpus that have the same amount of letters as the input word into the list\n",
    "    \n",
    "    for word in corpus:\n",
    "        # set \"finish\" to False so the program won't run the while loop part on the bottom\n",
    "        if len(inputword) == len(word):\n",
    "            samelenwords.append(word)\n",
    "            \n",
    "    # user often types the first letter correct\n",
    "    # the correct word is likely to have the same beginning letter as the first\n",
    "    \n",
    "    # create another empty list \n",
    "            \n",
    "    samebeginning = []\n",
    "    \n",
    "    # from all the words that have the same amount of letters, add the ones starting with the same letter as the input word to the list\n",
    "            \n",
    "    for word in samelenwords:\n",
    "        if word[0] == inputword[0]:\n",
    "            samebeginning.append(word)\n",
    "            \n",
    "    # import natural language toolkit\n",
    "            \n",
    "    import nltk\n",
    "    \n",
    "    # nltk.edit_distance of two words returns the \"distance\" between the two words, alphabet-wise\n",
    "    # the smaller the number, the more similar the two words are\n",
    "    \n",
    "    # set the distance between the first words in the \"samebeginning\" list and the input word as the variable \"closest\"\n",
    "    # set the variable \"bestmatch\" as the first word in the \"samebeginning\" list\n",
    "    # create an empty list\n",
    "    \n",
    "    closest = nltk.edit_distance(inputword,samebeginning[0])\n",
    "    bestmatch = samebeginning[0]\n",
    "    \n",
    "    # for each word in the list \"samebeginning\", compare the distance with input word\n",
    "    # if it is less than / equal to the previous distance, set it as \"closest\" and \"bestmatch\"\n",
    "    \n",
    "    for word in samebeginning[1:]:\n",
    "        if nltk.edit_distance(inputword,word) <= closest:\n",
    "            closest = nltk.edit_distance(inputword,word)\n",
    "            bestmatch = word\n",
    "    \n",
    "    # after looping through all the words, ask the user if \"bestmatch\" is the word you meant\n",
    "    \n",
    "    answer = input('do you mean ' + bestmatch + '? (y/n) ')\n",
    "   \n",
    "    # if yes, then print \"bestmatch\"\n",
    "    # set \"finish\" to False so the program won't run the while loop part on the bottom\n",
    "        \n",
    "    if answer == 'y':\n",
    "        print('\\n',bestmatch)\n",
    "        finish = False\n",
    "        \n",
    "    # if not, then it might be because the user forgot a letter in the misspelled word\n",
    "    # which means the misspelled word and the correct word do NOT have the same amount of letters\n",
    "        \n",
    "    elif answer == 'n':\n",
    "        \n",
    "        # set the \"samebeginning\" list to empty\n",
    "                \n",
    "        samebeginning = []\n",
    "        \n",
    "        # for each word in corpus, if it starts with the same letter as the input word, add it to \"samebeginning\"\n",
    "            \n",
    "        for word in corpus:\n",
    "            if word[0] == inputword[0]:\n",
    "                samebeginning.append(word)\n",
    "                \n",
    "        # again, set \"closest\" to how it was before\n",
    "        # however, we change \"bestmatch\" to an empty string this time\n",
    "                \n",
    "        closest = nltk.edit_distance(inputword,samebeginning[0])\n",
    "        bestmatch = ''\n",
    "    \n",
    "        for word in samebeginning[1:]:\n",
    "            if nltk.edit_distance(inputword,word) <= closest:\n",
    "                closest = nltk.edit_distance(inputword,word)\n",
    "                bestmatch = word # set \"bestmatch\" to the closest word\n",
    "                \n",
    "        # again, ask the user if this new \"bestmatch\" is the word user wants\n",
    "                \n",
    "        answer = input('do you mean ' + bestmatch + '? (y/n) ')\n",
    "        \n",
    "    # the second time the user replies\n",
    "    # set \"eachitem\" to 0\n",
    "    \n",
    "    eachitem = 0\n",
    "    \n",
    "    while finish == True:\n",
    "        \n",
    "        # like before, if the user approves, the program returns the word\n",
    "        \n",
    "        if answer == 'y':\n",
    "            print('\\n',bestmatch)\n",
    "            break\n",
    "            \n",
    "        # similar to the previous part, but \"bestmatch\" is a list this time\n",
    "            \n",
    "        elif answer == 'n':\n",
    "                \n",
    "            samebeginning = []\n",
    "            \n",
    "            for word in corpus:\n",
    "                if word[0] == inputword[0]:\n",
    "                    samebeginning.append(word)\n",
    "                \n",
    "            closest = nltk.edit_distance(inputword,samebeginning[0])\n",
    "            bestmatch = []\n",
    "    \n",
    "            for word in samebeginning[0:]:\n",
    "                if nltk.edit_distance(inputword,word) <= closest:\n",
    "                    closest = nltk.edit_distance(inputword,word)\n",
    "                    \n",
    "                    # add each word that is similar to the input one into the \"bestmatch\" list\n",
    "                    \n",
    "                    bestmatch.append(word)\n",
    "                    \n",
    "            # runs through each word in the \"bestmatch\" list and repeatly asks the user if the word if correct\n",
    "                    \n",
    "            answer = input('do you mean ' + bestmatch[eachitem] + '? (y/n) ')\n",
    "            eachitem += 1 # every time \"answer\" runs, add one to \"eachitem\"\n",
    "                \n",
    "            # after 7 unsuccessful tries, it might be because the user entered the wrong first letter\n",
    "            # try getting the closest word straight from corpus\n",
    "                \n",
    "            if eachitem > 5:\n",
    "                closest = nltk.edit_distance(inputword,corpus[0])\n",
    "                bestmatch = ''\n",
    "    \n",
    "                for word in corpus[0:]:\n",
    "                    if nltk.edit_distance(inputword,word) <= closest:\n",
    "                        closest = nltk.edit_distance(inputword,word)\n",
    "                        bestmatch = word\n",
    "                            \n",
    "                # since we don't want the program to go on forever, set it as the last suggested word\n",
    "                    \n",
    "                print('last suggested word: ' + bestmatch)\n",
    "                break\n",
    "                    \n",
    "            continue"
   ]
  },
  {
   "cell_type": "code",
   "execution_count": null,
   "metadata": {},
   "outputs": [],
   "source": [
    "# the followings worked"
   ]
  },
  {
   "cell_type": "code",
   "execution_count": 8,
   "metadata": {},
   "outputs": [
    {
     "name": "stdout",
     "output_type": "stream",
     "text": [
      "enter a word: colege\n",
      "do you mean colony? (y/n) n\n",
      "do you mean college? (y/n) y\n",
      "\n",
      " college\n"
     ]
    }
   ],
   "source": [
    "similarity()"
   ]
  },
  {
   "cell_type": "code",
   "execution_count": 9,
   "metadata": {},
   "outputs": [
    {
     "name": "stdout",
     "output_type": "stream",
     "text": [
      "enter a word: futura\n",
      "do you mean future? (y/n) y\n",
      "\n",
      " future\n"
     ]
    }
   ],
   "source": [
    "similarity()"
   ]
  },
  {
   "cell_type": "code",
   "execution_count": 10,
   "metadata": {},
   "outputs": [
    {
     "name": "stdout",
     "output_type": "stream",
     "text": [
      "enter a word: geometr\n",
      "do you mean geology? (y/n) n\n",
      "do you mean geometry? (y/n) y\n",
      "\n",
      " geometry\n"
     ]
    }
   ],
   "source": [
    "similarity()"
   ]
  },
  {
   "cell_type": "code",
   "execution_count": 4,
   "metadata": {},
   "outputs": [
    {
     "name": "stdout",
     "output_type": "stream",
     "text": [
      "enter a word: beatiful\n",
      "do you mean boutique? (y/n) n\n",
      "do you mean beautiful? (y/n) y\n",
      "\n",
      " beautiful\n"
     ]
    }
   ],
   "source": [
    "similarity()"
   ]
  },
  {
   "cell_type": "code",
   "execution_count": 8,
   "metadata": {},
   "outputs": [
    {
     "name": "stdout",
     "output_type": "stream",
     "text": [
      "enter a word: projext\n",
      "do you mean project? (y/n) y\n",
      "\n",
      " project\n"
     ]
    }
   ],
   "source": [
    "similarity()"
   ]
  },
  {
   "cell_type": "code",
   "execution_count": 9,
   "metadata": {},
   "outputs": [
    {
     "name": "stdout",
     "output_type": "stream",
     "text": [
      "enter a word: webaite\n",
      "do you mean website? (y/n) y\n",
      "\n",
      " website\n"
     ]
    }
   ],
   "source": [
    "similarity()"
   ]
  },
  {
   "cell_type": "code",
   "execution_count": 11,
   "metadata": {},
   "outputs": [
    {
     "name": "stdout",
     "output_type": "stream",
     "text": [
      "enter a word: phjone\n",
      "do you mean phones? (y/n) n\n",
      "do you mean phone? (y/n) y\n",
      "\n",
      " phone\n"
     ]
    }
   ],
   "source": [
    "similarity()"
   ]
  },
  {
   "cell_type": "code",
   "execution_count": 13,
   "metadata": {},
   "outputs": [
    {
     "name": "stdout",
     "output_type": "stream",
     "text": [
      "enter a word: cmoputer\n",
      "do you mean computer? (y/n) y\n",
      "\n",
      " computer\n"
     ]
    }
   ],
   "source": [
    "similarity()"
   ]
  },
  {
   "cell_type": "code",
   "execution_count": 14,
   "metadata": {},
   "outputs": [
    {
     "name": "stdout",
     "output_type": "stream",
     "text": [
      "enter a word: ga;sses\n",
      "do you mean glasses? (y/n) y\n",
      "\n",
      " glasses\n"
     ]
    }
   ],
   "source": [
    "similarity()"
   ]
  },
  {
   "cell_type": "code",
   "execution_count": 15,
   "metadata": {},
   "outputs": [
    {
     "name": "stdout",
     "output_type": "stream",
     "text": [
      "enter a word: previsou\n",
      "do you mean previous? (y/n) y\n",
      "\n",
      " previous\n"
     ]
    }
   ],
   "source": [
    "similarity()"
   ]
  },
  {
   "cell_type": "code",
   "execution_count": 16,
   "metadata": {},
   "outputs": [
    {
     "name": "stdout",
     "output_type": "stream",
     "text": [
      "enter a word: simialr\n",
      "do you mean similar? (y/n) y\n",
      "\n",
      " similar\n"
     ]
    }
   ],
   "source": [
    "similarity()"
   ]
  },
  {
   "cell_type": "code",
   "execution_count": 17,
   "metadata": {},
   "outputs": [
    {
     "name": "stdout",
     "output_type": "stream",
     "text": [
      "enter a word: cjair\n",
      "do you mean chair? (y/n) y\n",
      "\n",
      " chair\n"
     ]
    }
   ],
   "source": [
    "similarity()"
   ]
  },
  {
   "cell_type": "code",
   "execution_count": null,
   "metadata": {},
   "outputs": [],
   "source": [
    "# in this case, the user (me) meant \"dice\""
   ]
  },
  {
   "cell_type": "code",
   "execution_count": 4,
   "metadata": {},
   "outputs": [
    {
     "name": "stdout",
     "output_type": "stream",
     "text": [
      "enter a word: jice\n",
      "do you mean jade? (y/n) n\n",
      "do you mean juice? (y/n) n\n",
      "do you mean just? (y/n) n\n",
      "do you mean jan? (y/n) n\n",
      "do you mean john? (y/n) n\n",
      "do you mean jobs? (y/n) n\n",
      "do you mean j? (y/n) n\n",
      "do you mean job? (y/n) n\n",
      "last suggested word: dice\n"
     ]
    }
   ],
   "source": [
    "similarity()"
   ]
  },
  {
   "cell_type": "code",
   "execution_count": null,
   "metadata": {},
   "outputs": [],
   "source": [
    "# still, this program isn't perfect\n",
    "# if you missed too much letters from the word inputted, the program would NOT suggest the word you originally meant\n",
    "\n",
    "# in the case below, the user (me) meant \"water\", yet the program did not detect that"
   ]
  },
  {
   "cell_type": "code",
   "execution_count": 2,
   "metadata": {},
   "outputs": [
    {
     "name": "stdout",
     "output_type": "stream",
     "text": [
      "enter a word: watrt\n",
      "do you mean watts? (y/n) n\n",
      "do you mean watt? (y/n) n\n",
      "do you mean with? (y/n) n\n",
      "do you mean was? (y/n) n\n",
      "do you mean what? (y/n) n\n",
      "do you mean were? (y/n) n\n",
      "do you mean work? (y/n) n\n",
      "do you mean where? (y/n) n\n",
      "last suggested word: watt\n"
     ]
    }
   ],
   "source": [
    "similarity() "
   ]
  }
 ],
 "metadata": {
  "kernelspec": {
   "display_name": "Python 3",
   "language": "python",
   "name": "python3"
  },
  "language_info": {
   "codemirror_mode": {
    "name": "ipython",
    "version": 3
   },
   "file_extension": ".py",
   "mimetype": "text/x-python",
   "name": "python",
   "nbconvert_exporter": "python",
   "pygments_lexer": "ipython3",
   "version": "3.6.5"
  }
 },
 "nbformat": 4,
 "nbformat_minor": 2
}
