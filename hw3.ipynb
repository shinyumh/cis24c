{
 "cells": [
  {
   "cell_type": "markdown",
   "metadata": {},
   "source": [
    "\n",
    "# CIS024C - Summer 2018 \n",
    "\n",
    "## Homework 3\n",
    "\n",
    "Homework 3 covers exercises in Conditionals and Repetition. It involves the user of the if..elif..else statements and the for/while loops.\n",
    "\n",
    "You will need to download this notebook and use this as a starting point for your homework. You will just need to fill in the content of each code-block (cell) and execute. Once you have completed all the exercises, you will need to save and upload this to your github repository under a folder called hw3.\n",
    "\n",
    "Note also the exercises build on top of one another so you might be able to do the next exercise if you have not completed the previous exercise.\n",
    "\n",
    "Post any questions you have on our Slack at **cis-024c1.slack.com**\n",
    "\n",
    "<h3><font color='red'>\n",
    "ALL THE WORK THAT WE DID IN CLASS DURING WEEK 2 IS NOW IN GITHUB AT THE BELOW LINK\n",
    "</font></h3>\n",
    "\n",
    "https://github.com/cis024c/spring2018classwork/blob/master/week2/week2_classwork.ipynb\n",
    "\n",
    "\n",
    "\n",
    "**Please refer back to hw1 and slack for instructions on how to setup your computer for developing using Python.**"
   ]
  },
  {
   "cell_type": "markdown",
   "metadata": {},
   "source": [
    "### Helpful Jupyter Commands\n",
    "\n",
    "Below are some useful commands to know when using Jupyter\n",
    "\n",
    "1. You can add a new cell by clicking on the \"+\" icon on top.\n",
    "2. You can delete a cell by selecting that cell and clicking on the \"scissors\" icon on top.\n",
    "3. You can execute a cell by either pressing shift+enter or selecting the \"play\" button on top.\n",
    "4. You can create a new file in Jupyter via the File menu->New Notebook option. Make sure to select Python 3 when creating your notebook.\n",
    "5. Also, for your code blocks make sure that Code is selected instead of another option like Markdown.\n",
    "6. Use the Enter key to go to the next line in a cell to enter the next statement.\n",
    "7. You can clear results by clicking on the Cell menu item and selecting Current Output->Clear or All Output->Clear depending on whether you are trying to just clear the output for one cell or for all cells.\n",
    "8. In case your program has crashed for some reason (infinite loop, for example), you can restart your Python session by select Kernel in the menu and selecting Restart.\n"
   ]
  },
  {
   "cell_type": "markdown",
   "metadata": {},
   "source": [
    "#### Check Python Version"
   ]
  },
  {
   "cell_type": "code",
   "execution_count": 1,
   "metadata": {},
   "outputs": [
    {
     "name": "stdout",
     "output_type": "stream",
     "text": [
      "Python 3.6.1 :: Continuum Analytics, Inc.\r\n"
     ]
    }
   ],
   "source": [
    "!python --version"
   ]
  },
  {
   "cell_type": "markdown",
   "metadata": {},
   "source": [
    "#### Sample Exercises with conditionals and repetitions\n",
    "\n",
    "Refer to Week 2 classwork 2 for sample exercises - https://github.com/cis024c/spring2018classwork/blob/master/week2/week2_classwork.ipynb"
   ]
  },
  {
   "cell_type": "markdown",
   "metadata": {},
   "source": [
    "#### Exercise 1 - if statement\n",
    "\n",
    "Write a python program to accept a number from the user. Use the **if** statement to check to see if the number is greater than 100. If the number is greater than 100, print the message \"Found a number greater than 100\""
   ]
  },
  {
   "cell_type": "code",
   "execution_count": 5,
   "metadata": {},
   "outputs": [
    {
     "name": "stdout",
     "output_type": "stream",
     "text": [
      "Enter a number: 101\n",
      "Found a number greater than 100\n"
     ]
    }
   ],
   "source": [
    "number = int(input('Enter a number: '))\n",
    "\n",
    "if number > 100:\n",
    "    print ('Found a number greater than 100')"
   ]
  },
  {
   "cell_type": "markdown",
   "metadata": {},
   "source": [
    "#### Exercise 2 - if...else statement\n",
    "\n",
    "Write a python program to accept the name of a user. Use the **if** statement to check to see if the name is \"Joe\". If the name is \"Joe\", print the message \"User Joe was entered\", otherwise if the name is not \"Joe\", print a message saying that \"User Joe was not entered\" "
   ]
  },
  {
   "cell_type": "code",
   "execution_count": 8,
   "metadata": {},
   "outputs": [
    {
     "name": "stdout",
     "output_type": "stream",
     "text": [
      "Enter your name: Joe\n",
      "User Joe was entered\n"
     ]
    }
   ],
   "source": [
    "username = input('Enter your name: ')\n",
    "\n",
    "if username == 'Joe':\n",
    "    print('User Joe was entered')\n",
    "else:\n",
    "    print('User Joe was not entered')"
   ]
  },
  {
   "cell_type": "markdown",
   "metadata": {},
   "source": [
    "#### Exercise 3 - if..elif...else statement\n",
    "\n",
    "Write a python program to accept the salary of the user. \n",
    "\n",
    "If the salary is **less than 70,000**, then print the message \"User salary is less than 70000\", otherwise if the salary is **less than 100,000**, print the message \"User salary is less than 100,000, otherwise, print the message \"User salary is greater than or equal to 100,000\""
   ]
  },
  {
   "cell_type": "code",
   "execution_count": 9,
   "metadata": {},
   "outputs": [
    {
     "name": "stdout",
     "output_type": "stream",
     "text": [
      "Enter your salary: 75000\n",
      "User salary is less than 100000\n"
     ]
    }
   ],
   "source": [
    "salary = int(input('Enter your salary: '))\n",
    "\n",
    "if salary < 70000:\n",
    "    print('User salary is less than 70000')\n",
    "elif salary < 100000:\n",
    "    print('User salary is less than 100000')\n",
    "else:\n",
    "    print('User salary is greater than or equal to 100000')"
   ]
  },
  {
   "cell_type": "markdown",
   "metadata": {},
   "source": [
    "#### Exercise 4 - for loop\n",
    "\n",
    "Write a program to get a number from the user. Find the sum of all numbers from 1 to the number that the user entered.\n",
    "\n",
    "For example, if the user enters 10, then you would need to find the sum of all numbers from 1 to 10 like so. Use the range statement in the for loop...see week 2 classwork for more information on the range statement\n",
    "\n",
    "\n",
    "```\n",
    "1+2+3+4+5+6+7+8+9+10\n",
    "```\n",
    "\n",
    "Print the result"
   ]
  },
  {
   "cell_type": "code",
   "execution_count": 14,
   "metadata": {},
   "outputs": [
    {
     "name": "stdout",
     "output_type": "stream",
     "text": [
      "Enter a number: 4\n",
      "The sum of all numbers from 1 to 4 is 10\n"
     ]
    }
   ],
   "source": [
    "number = int(input('Enter a number: '))\n",
    "\n",
    "total_number = 0\n",
    "\n",
    "for i in range(1,number+1):\n",
    "    total_number = total_number + i\n",
    "    \n",
    "print ('The sum of all numbers from 1 to %d is ' % (number) + str(total_number))"
   ]
  },
  {
   "cell_type": "markdown",
   "metadata": {},
   "source": [
    "#### Exercise - while loop\n",
    "\n",
    "**Guessing a number.**\n",
    "\n",
    "Initialize a variable called **myNumber** to any arbitrary value. For example, maybe you thought of a number 9\n",
    "\n",
    "Use the **while** loop to ask the user to enter a number. Check to see if the number entered by the user matches the number **myNumber** that you thought of. If there is a match, **break** from the **while** loop and print \"Yippee! User guessed the right number\". If there is no match allow the **while** loop to continue to ask the user for a number until a match is found\n"
   ]
  },
  {
   "cell_type": "code",
   "execution_count": 14,
   "metadata": {},
   "outputs": [
    {
     "name": "stdout",
     "output_type": "stream",
     "text": [
      "Enter a number: 10\n",
      "User did not guess the right number. Guess again! 9\n",
      "\n",
      "Yippee! User guessed the right number!\n"
     ]
    }
   ],
   "source": [
    "myNumber = 9\n",
    "\n",
    "number = int(input('Enter a number: '))\n",
    "\n",
    "while number != myNumber:\n",
    "    number = int(input ('User did not guess the right number. Guess again! '))\n",
    "    \n",
    "    if number == myNumber:\n",
    "        print ('\\nYippee! User guessed the right number!')\n",
    "        break"
   ]
  },
  {
   "cell_type": "markdown",
   "metadata": {},
   "source": [
    "## OPTIONAL EXERCISES\n",
    "\n",
    "Below is a set of optional exercises. These will not be graded but the solutions will be posted. I would strongly encourage you to try these out if you are done with the mandatory homework exercises to improve your understanding of python."
   ]
  },
  {
   "cell_type": "markdown",
   "metadata": {},
   "source": [
    "#### Exercise 6\n",
    "\n",
    "Write a Python program to convert temperatures to and from celsius, fahrenheit.\n",
    "\n",
    "[ Formula : c/5 = f-32/9 [ where c = temperature in celsius and f = temperature in fahrenheit ] "
   ]
  },
  {
   "cell_type": "code",
   "execution_count": 3,
   "metadata": {},
   "outputs": [
    {
     "name": "stdout",
     "output_type": "stream",
     "text": [
      "Do you want to enter temperature in Fahrenheit and convert it to Celsius (f) or do you want to enter temperature in Celsius and convert it to Fahrenheit (c)? (f / c) f\n",
      "Enter temperature in Fahrenheit: 32\n",
      "\n",
      "32 degrees Fahrenheit is equal to 0.0 degrees Celsius\n"
     ]
    }
   ],
   "source": [
    "whichone = input('Do you want to enter temperature in Fahrenheit and convert it to Celsius (f) or do you want to enter temperature in Celsius and convert it to Fahrenheit (c)? (f / c) ')\n",
    "\n",
    "if whichone == 'f':\n",
    "    f = int(input('Enter temperature in Fahrenheit: '))\n",
    "    celsius = (f - 32) * 5/9\n",
    "    print('\\n%d degrees Fahrenheit is equal to ' % (f) + str(celsius) + ' degrees Celsius')\n",
    "\n",
    "elif whichone == 'c':\n",
    "    c = int(input('Enter temperature in Celsius: '))\n",
    "    fahrenheit = 1.8 * c + 32\n",
    "    print('\\n%d degrees Celsius is equal to ' % (c) + str(fahrenheit) + ' degrees Fahrenheit')\n",
    "\n",
    "else:\n",
    "    print('Are you sure you entered either f or c? Try again.')"
   ]
  },
  {
   "cell_type": "markdown",
   "metadata": {},
   "source": [
    "#### Exercise 7\n",
    "\n",
    "Write a Python program that prints all the numbers from 0 to 10 except 1 and 5. Use the **for** loop"
   ]
  },
  {
   "cell_type": "code",
   "execution_count": 7,
   "metadata": {},
   "outputs": [
    {
     "name": "stdout",
     "output_type": "stream",
     "text": [
      "0\n",
      "6\n",
      "7\n",
      "8\n",
      "9\n",
      "10\n"
     ]
    }
   ],
   "source": [
    "for i in range (11):\n",
    "    if i == 0 or i > 5: \n",
    "    # except 1 to 5\n",
    "        print (i)"
   ]
  },
  {
   "cell_type": "markdown",
   "metadata": {},
   "source": [
    "#### Exercise 8\n",
    "\n",
    "Write a Python program that reads two integers representing a month and day and prints the season for that month and day. Refer to this URL https://www.timeanddate.com/calendar/aboutseasons.html for when a season starts and ends in North America (Northern Meteorological Seasons)"
   ]
  },
  {
   "cell_type": "code",
   "execution_count": 9,
   "metadata": {},
   "outputs": [
    {
     "name": "stdout",
     "output_type": "stream",
     "text": [
      "Enter month (1-12): 10\n",
      "Enter date (1-31): 21\n",
      "\n",
      "10/21 is winter!\n"
     ]
    }
   ],
   "source": [
    "month = int(input('Enter month (1-12): '))\n",
    "date = int(input('Enter date (1-31): '))\n",
    "\n",
    "if month == 3 or month == 5:\n",
    "    print ('\\n%d/%d is spring!' % (month,date))\n",
    "elif month == 6 or month == 8:\n",
    "    print ('\\n%d/%d is summer!' % (month,date))\n",
    "elif month == 9 or month == 11:\n",
    "    print ('\\n%d/%d is fall / autumn!' % (month,date))\n",
    "else:\n",
    "    print ('\\n%d/%d is winter!' % (month,date))"
   ]
  },
  {
   "cell_type": "markdown",
   "metadata": {},
   "source": [
    "#### Exercise 9\n",
    "\n",
    "Use a **while** loop to ask the user to enter a number. Print a running total of all the numbers that the user enters. If the user enters 0, break from the while loop."
   ]
  },
  {
   "cell_type": "code",
   "execution_count": 13,
   "metadata": {},
   "outputs": [
    {
     "name": "stdout",
     "output_type": "stream",
     "text": [
      "Enter a number: 1\n",
      "Enter a number: 2\n",
      "Enter a number: 3\n",
      "Enter a number: 0\n",
      "\n",
      "The sum of the all the numbers entered is 6\n"
     ]
    }
   ],
   "source": [
    "number = int(input('Enter a number: '))\n",
    "totalnumber = 0\n",
    "\n",
    "while number != 0:\n",
    "    totalnumber = totalnumber + number\n",
    "    number = int(input('Enter a number: '))\n",
    "    \n",
    "    if number == 0:\n",
    "        print('\\nThe sum of the all the numbers entered is ' + str(totalnumber))\n",
    "        break"
   ]
  },
  {
   "cell_type": "markdown",
   "metadata": {},
   "source": [
    "#### Exercise 10\n",
    "\n",
    "Write a Python program to create the multiplication table (from 1 to 10) of a number. Use the formatted print statements that you learnt in Week 2 and the **for** loop to print this table.\n",
    "\n",
    "Input a number: 6                                                       \n",
    "6 x 1 = 6                                                               \n",
    "6 x 2 = 12                                                              \n",
    "6 x 3 = 18                                                              \n",
    "6 x 4 = 24                                                              \n",
    "6 x 5 = 30                                                              \n",
    "6 x 6 = 36                                                              \n",
    "6 x 7 = 42                                                              \n",
    "6 x 8 = 48                                                              \n",
    "6 x 9 = 54                                                              \n",
    "6 x 10 = 60 "
   ]
  },
  {
   "cell_type": "code",
   "execution_count": 3,
   "metadata": {},
   "outputs": [
    {
     "name": "stdout",
     "output_type": "stream",
     "text": [
      "Enter a number: 7\n",
      "7 x 0 = 0\n",
      "7 x 1 = 7\n",
      "7 x 2 = 14\n",
      "7 x 3 = 21\n",
      "7 x 4 = 28\n",
      "7 x 5 = 35\n",
      "7 x 6 = 42\n",
      "7 x 7 = 49\n",
      "7 x 8 = 56\n",
      "7 x 9 = 63\n",
      "7 x 10 = 70\n"
     ]
    }
   ],
   "source": [
    "number = int(input('Enter a number: '))\n",
    "\n",
    "for i in range(11):\n",
    "    print('%d x ' % (number) + str(i) + ' = ' + str(number*i))"
   ]
  }
 ],
 "metadata": {
  "kernelspec": {
   "display_name": "Python 3",
   "language": "python",
   "name": "python3"
  },
  "language_info": {
   "codemirror_mode": {
    "name": "ipython",
    "version": 3
   },
   "file_extension": ".py",
   "mimetype": "text/x-python",
   "name": "python",
   "nbconvert_exporter": "python",
   "pygments_lexer": "ipython3",
   "version": "3.6.5"
  }
 },
 "nbformat": 4,
 "nbformat_minor": 2
}
